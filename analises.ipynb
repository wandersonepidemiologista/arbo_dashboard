{
 "cells": [
  {
   "cell_type": "code",
   "execution_count": 6,
   "id": "6da7400b",
   "metadata": {},
   "outputs": [],
   "source": [
    "import pandas as pd\n",
    "import os"
   ]
  },
  {
   "cell_type": "code",
   "execution_count": 7,
   "id": "e6eba28c",
   "metadata": {},
   "outputs": [
    {
     "name": "stdout",
     "output_type": "stream",
     "text": [
      "Arquivo encontrado: data/arbo.parquet\n"
     ]
    }
   ],
   "source": [
    "\n",
    "# Caminho do arquivo\n",
    "file_path = 'data/arbo.parquet'\n",
    "\n",
    "# Verifique se o arquivo existe\n",
    "if os.path.exists(file_path):\n",
    "    print(f\"Arquivo encontrado: {file_path}\")\n",
    "else:\n",
    "    print(f\"Arquivo NÃO encontrado: {file_path}\")\n"
   ]
  },
  {
   "cell_type": "code",
   "execution_count": 8,
   "id": "97e0cc88",
   "metadata": {},
   "outputs": [
    {
     "name": "stdout",
     "output_type": "stream",
     "text": [
      "Dados carregados com sucesso!\n",
      "               classi_fin        criterio            cs_escol_n  \\\n",
      "0  Chikungunya Confirmado  1.Laboratorial            9.Ignorado   \n",
      "1  Chikungunya Confirmado  1.Laboratorial            9.Ignorado   \n",
      "2  Chikungunya Confirmado  1.Laboratorial  2.Ensino fundamental   \n",
      "3  Chikungunya Confirmado  1.Laboratorial            9.Ignorado   \n",
      "4  Chikungunya Confirmado  1.Laboratorial            9.Ignorado   \n",
      "\n",
      "        cs_gestant     cs_raca      cs_sexo  dt_notific dt_obito  \\\n",
      "0  6.Nao se aplica    1.Branco   1.Feminino  2016-03-13     None   \n",
      "1            5.Nao    1.Branco   1.Feminino  2016-12-27     None   \n",
      "2            5.Nao     3.Pardo   1.Feminino  2016-04-23     None   \n",
      "3  6.Nao se aplica  9.Ignorado  2.Masculino  2016-08-31     None   \n",
      "4            5.Nao  9.Ignorado   1.Feminino  2016-05-04     None   \n",
      "\n",
      "               evolucao           id_agravo  ...  regiaogeografica  \\\n",
      "0  1.Cura - Chikungunya  A920 - Chikungunya  ...         3.Sudeste   \n",
      "1  1.Cura - Chikungunya  A920 - Chikungunya  ...         3.Sudeste   \n",
      "2  1.Cura - Chikungunya  A920 - Chikungunya  ...         3.Sudeste   \n",
      "3  1.Cura - Chikungunya  A920 - Chikungunya  ...         3.Sudeste   \n",
      "4  1.Cura - Chikungunya  A920 - Chikungunya  ...         3.Sudeste   \n",
      "\n",
      "   unidadefederada  nomedomunicipio  populacao2022      faixapopulacional  \\\n",
      "0               MG           Pompéu          31047    4 - 20001 até 50000   \n",
      "1               MG     Nova Serrana         105552  6 - 100001 até 500000   \n",
      "2               MG    Pará de Minas          97139   5 - 50001 até 100000   \n",
      "3               MG            Betim         411846  6 - 100001 até 500000   \n",
      "4               MG            Betim         411846  6 - 100001 até 500000   \n",
      "\n",
      "          municipioquadrilateroferrifero  municipioribeirinho  estudovale  \\\n",
      "0                                   None        Rio Paraopeba      1.caso   \n",
      "1                                   None             Rio Pará  2.controle   \n",
      "2                                   None        Rio Paraopeba      1.caso   \n",
      "3  1.Município do quadrilátero ferrífero        Rio Paraopeba      1.caso   \n",
      "4  1.Município do quadrilátero ferrífero        Rio Paraopeba      1.caso   \n",
      "\n",
      "                                   regiaodesaude   faixa_etaria  \n",
      "0                 31024-3.Sudeste-MG-Sete Lagoas  08.50-59 anos  \n",
      "1  31032-3.Sudeste-MG-Pará de Minas/Nova Serrana  05.20-29 anos  \n",
      "2  31032-3.Sudeste-MG-Pará de Minas/Nova Serrana  07.40-49 anos  \n",
      "3                       31017-3.Sudeste-MG-Betim  09.60-69 anos  \n",
      "4                       31017-3.Sudeste-MG-Betim  07.40-49 anos  \n",
      "\n",
      "[5 rows x 30 columns]\n"
     ]
    }
   ],
   "source": [
    "# Tentar carregar o arquivo Parquet\n",
    "try:\n",
    "    df = pd.read_parquet(file_path)\n",
    "    print(\"Dados carregados com sucesso!\")\n",
    "    print(df.head())  # Exibe as primeiras linhas do DataFrame para inspeção\n",
    "except Exception as e:\n",
    "    print(f\"Erro ao carregar o arquivo Parquet: {e}\")"
   ]
  },
  {
   "cell_type": "code",
   "execution_count": 9,
   "id": "ddb791cb",
   "metadata": {},
   "outputs": [
    {
     "name": "stdout",
     "output_type": "stream",
     "text": [
      "A coluna faixa_etaria está presente.\n",
      "A coluna classi_fin está presente.\n",
      "A coluna periodo NÃO está presente.\n"
     ]
    }
   ],
   "source": [
    "# Verificar se as colunas essenciais estão presentes\n",
    "required_columns = ['faixa_etaria', 'classi_fin', 'periodo']\n",
    "for column in required_columns:\n",
    "    if column in df.columns:\n",
    "        print(f\"A coluna {column} está presente.\")\n",
    "    else:\n",
    "        print(f\"A coluna {column} NÃO está presente.\")\n"
   ]
  },
  {
   "cell_type": "code",
   "execution_count": 10,
   "id": "739a7497",
   "metadata": {},
   "outputs": [
    {
     "name": "stdout",
     "output_type": "stream",
     "text": [
      "classi_fin                         object\n",
      "criterio                           object\n",
      "cs_escol_n                         object\n",
      "cs_gestant                         object\n",
      "cs_raca                            object\n",
      "cs_sexo                            object\n",
      "dt_notific                         object\n",
      "dt_obito                           object\n",
      "evolucao                           object\n",
      "id_agravo                          object\n",
      "id_mn_resi                        float64\n",
      "id_municip                          int64\n",
      "nu_ano                              int64\n",
      "nu_idade_n                          int64\n",
      "sem_not                           float64\n",
      "sg_uf                             float64\n",
      "sg_uf_not                           int64\n",
      "estudo                              int64\n",
      "ID                                 object\n",
      "codigoibge7                         int64\n",
      "regiaogeografica                   object\n",
      "unidadefederada                    object\n",
      "nomedomunicipio                    object\n",
      "populacao2022                       int64\n",
      "faixapopulacional                  object\n",
      "municipioquadrilateroferrifero     object\n",
      "municipioribeirinho                object\n",
      "estudovale                         object\n",
      "regiaodesaude                      object\n",
      "faixa_etaria                       object\n",
      "dtype: object\n"
     ]
    }
   ],
   "source": [
    "# Verificar os tipos de dados\n",
    "print(df.dtypes)\n"
   ]
  },
  {
   "cell_type": "code",
   "execution_count": 11,
   "id": "0d177cd5",
   "metadata": {},
   "outputs": [],
   "source": [
    "# Adicionar a coluna 'periodo' com base na coluna 'nu_ano'\n",
    "df['periodo'] = df['nu_ano'].apply(lambda x: 'Pré-ESP' if x < 2019 else 'Pós-ESP')"
   ]
  },
  {
   "cell_type": "code",
   "execution_count": 12,
   "id": "89aa5749",
   "metadata": {},
   "outputs": [
    {
     "data": {
      "text/plain": [
       "Index(['classi_fin', 'criterio', 'cs_escol_n', 'cs_gestant', 'cs_raca',\n",
       "       'cs_sexo', 'dt_notific', 'dt_obito', 'evolucao', 'id_agravo',\n",
       "       'id_mn_resi', 'id_municip', 'nu_ano', 'nu_idade_n', 'sem_not', 'sg_uf',\n",
       "       'sg_uf_not', 'estudo', 'ID', 'codigoibge7', 'regiaogeografica',\n",
       "       'unidadefederada', 'nomedomunicipio', 'populacao2022',\n",
       "       'faixapopulacional', 'municipioquadrilateroferrifero',\n",
       "       'municipioribeirinho', 'estudovale', 'regiaodesaude', 'faixa_etaria',\n",
       "       'periodo'],\n",
       "      dtype='object')"
      ]
     },
     "execution_count": 12,
     "metadata": {},
     "output_type": "execute_result"
    }
   ],
   "source": [
    "df.columns"
   ]
  }
 ],
 "metadata": {
  "kernelspec": {
   "display_name": "Python 3",
   "language": "python",
   "name": "python3"
  },
  "language_info": {
   "codemirror_mode": {
    "name": "ipython",
    "version": 3
   },
   "file_extension": ".py",
   "mimetype": "text/x-python",
   "name": "python",
   "nbconvert_exporter": "python",
   "pygments_lexer": "ipython3",
   "version": "3.13.2"
  }
 },
 "nbformat": 4,
 "nbformat_minor": 5
}
