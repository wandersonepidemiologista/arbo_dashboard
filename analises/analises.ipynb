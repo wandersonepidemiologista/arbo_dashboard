{
 "cells": [
  {
   "cell_type": "code",
   "execution_count": 16,
   "id": "6da7400b",
   "metadata": {},
   "outputs": [],
   "source": [
    "import pandas as pd\n",
    "import os"
   ]
  },
  {
   "cell_type": "code",
   "execution_count": 17,
   "id": "8d117cca",
   "metadata": {},
   "outputs": [],
   "source": [
    "# Atualizar o caminho do arquivo\n",
    "file_path = r'D:\\github\\arbo_dashboard\\data\\arbo.parquet'\n",
    "\n",
    "# Ler o arquivo parquet\n",
    "df = pd.read_parquet(file_path)"
   ]
  },
  {
   "cell_type": "code",
   "execution_count": null,
   "id": "0d177cd5",
   "metadata": {},
   "outputs": [],
   "source": [
    "# Adicionar a coluna 'periodo' com base na coluna 'nu_ano'\n",
    "#df['periodo'] = df['nu_ano'].apply(lambda x: 'Pré-ESP' if x < 2019 else 'Pós-ESP')"
   ]
  },
  {
   "cell_type": "code",
   "execution_count": 18,
   "id": "89aa5749",
   "metadata": {},
   "outputs": [
    {
     "data": {
      "text/plain": [
       "Index(['classi_fin', 'criterio', 'cs_escol_n', 'cs_gestant', 'cs_raca',\n",
       "       'cs_sexo', 'dt_notific', 'dt_obito', 'evolucao', 'id_agravo',\n",
       "       'id_mn_resi', 'id_municip', 'nu_ano', 'nu_idade_n', 'sem_not', 'sg_uf',\n",
       "       'sg_uf_not', 'estudo', 'ID', 'codigoibge7', 'regiaogeografica',\n",
       "       'unidadefederada', 'nomedomunicipio', 'populacao2022',\n",
       "       'faixapopulacional', 'municipioquadrilateroferrifero',\n",
       "       'municipioribeirinho', 'estudovale', 'regiaodesaude', 'faixa_etaria',\n",
       "       'periodo'],\n",
       "      dtype='object')"
      ]
     },
     "execution_count": 18,
     "metadata": {},
     "output_type": "execute_result"
    }
   ],
   "source": [
    "df.columns"
   ]
  },
  {
   "cell_type": "code",
   "execution_count": 19,
   "id": "de474e7f",
   "metadata": {},
   "outputs": [
    {
     "name": "stdout",
     "output_type": "stream",
     "text": [
      "   Periodo  Contagem\n",
      "0  Pós-ESP    383390\n",
      "1  Pré-ESP    112346\n"
     ]
    }
   ],
   "source": [
    "# Criar uma tabela com a contagem de valores únicos na coluna 'periodo'\n",
    "tabela_periodo = df['periodo'].value_counts().reset_index()\n",
    "tabela_periodo.columns = ['Periodo', 'Contagem']\n",
    "print(tabela_periodo)"
   ]
  },
  {
   "cell_type": "code",
   "execution_count": 20,
   "id": "95c6e8c0",
   "metadata": {},
   "outputs": [],
   "source": [
    "df.to_parquet(file_path, index=False)"
   ]
  },
  {
   "cell_type": "code",
   "execution_count": 22,
   "id": "c2fdd375",
   "metadata": {},
   "outputs": [
    {
     "name": "stdout",
     "output_type": "stream",
     "text": [
      "['Chikungunya Confirmado' 'Dengue Confirmado' 'Zika Confirmado']\n"
     ]
    }
   ],
   "source": [
    "print(df['classi_fin'].unique())  # Verifica os valores únicos na coluna classi_fin\n"
   ]
  }
 ],
 "metadata": {
  "kernelspec": {
   "display_name": "Python 3",
   "language": "python",
   "name": "python3"
  },
  "language_info": {
   "codemirror_mode": {
    "name": "ipython",
    "version": 3
   },
   "file_extension": ".py",
   "mimetype": "text/x-python",
   "name": "python",
   "nbconvert_exporter": "python",
   "pygments_lexer": "ipython3",
   "version": "3.13.2"
  }
 },
 "nbformat": 4,
 "nbformat_minor": 5
}
